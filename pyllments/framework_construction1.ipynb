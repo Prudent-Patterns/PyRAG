{
 "cells": [
  {
   "cell_type": "code",
   "execution_count": null,
   "metadata": {},
   "outputs": [],
   "source": [
    "import sys\n",
    "sys.path.append('..')\n",
    "\n",
    "%load_ext autoreload\n",
    "%autoreload 2"
   ]
  },
  {
   "cell_type": "code",
   "execution_count": null,
   "metadata": {},
   "outputs": [],
   "source": [
    "import param\n",
    "\n",
    "from pyllments.base.model_base import Model\n",
    "from pyllments.payloads.message import MessagePayload\n",
    "\n",
    "class ChatInterfaceModel(Model):\n",
    "    message_list = param.List(default=[], per_instance=True)\n",
    "    \n",
    "    def __init__(self, **params):\n",
    "        super().__init__(**params)\n",
    "        self.param.add_parameter('created_message', param.ClassSelector(class_=MessagePayload))\n",
    "        self.message_list.append(('human', 'what is the capital of the moon?'))\n"
   ]
  },
  {
   "cell_type": "code",
   "execution_count": null,
   "metadata": {},
   "outputs": [],
   "source": [
    "import panel as pn\n",
    "import param\n",
    "\n",
    "from pyllments.base.element_base import Element\n",
    "from pyllments.base.model_base import Model\n",
    "# from pyllments.elements.chat_interface import ChatInterfaceModel\n",
    "\n",
    "class ChatInterfaceElement(Element):\n",
    "    '''Responsible for creating the chat feed, input, and send button views'''\n",
    "    model = param.ClassSelector(class_=Model, is_instance=True, default=ChatInterfaceModel())\n",
    "\n",
    "    chatfeed_view = param.ClassSelector(class_=pn.chat.ChatFeed, is_instance=True)\n",
    "    chat_input_view = param.ClassSelector(class_=pn.chat.ChatAreaInput, is_instance=True)\n",
    "    send_button_view = param.ClassSelector(class_=pn.widgets.Button, is_instance=True)\n",
    "\n",
    "    def create_chatfeed_view(self, **kwargs):\n",
    "        self.chatfeed_view = pn.chat.ChatFeed(**kwargs)\n",
    "        return self.chatfeed_view\n",
    "    \n",
    "    def create_chat_input_view(self, **kwargs):\n",
    "        self.chat_input_view = pn.chat.ChatAreaInput(**kwargs)\n",
    "        return self.chat_input_view\n",
    "\n",
    "    def create_send_button_view(self, **kwargs):\n",
    "        self.send_button_view = pn.widgets.Button(**kwargs)\n",
    "        return self.send_button_view\n",
    "\n",
    "    def _on_send(self, event):\n",
    "        self.chat_interface_model.message_list.append(('human', self.chat_input_view.value))\n",
    "        self.chat_input_view.value = ''\n",
    "        self.chatfeed_view.update()\n"
   ]
  }
 ],
 "metadata": {
  "kernelspec": {
   "display_name": "pyllments",
   "language": "python",
   "name": "python3"
  },
  "language_info": {
   "codemirror_mode": {
    "name": "ipython",
    "version": 3
   },
   "file_extension": ".py",
   "mimetype": "text/x-python",
   "name": "python",
   "nbconvert_exporter": "python",
   "pygments_lexer": "ipython3",
   "version": "3.12.4"
  }
 },
 "nbformat": 4,
 "nbformat_minor": 2
}
