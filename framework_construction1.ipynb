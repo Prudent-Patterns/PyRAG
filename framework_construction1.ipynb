{
 "cells": [
  {
   "cell_type": "code",
   "execution_count": 1,
   "metadata": {},
   "outputs": [],
   "source": [
    "import sys\n",
    "sys.path.append('..')\n",
    "\n",
    "%load_ext autoreload\n",
    "%autoreload 2"
   ]
  },
  {
   "cell_type": "code",
   "execution_count": 55,
   "metadata": {},
   "outputs": [
    {
     "data": {
      "application/javascript": "(function(root) {\n  function now() {\n    return new Date();\n  }\n\n  var force = true;\n  var py_version = '3.4.1'.replace('rc', '-rc.').replace('.dev', '-dev.');\n  var reloading = false;\n  var Bokeh = root.Bokeh;\n\n  if (typeof (root._bokeh_timeout) === \"undefined\" || force) {\n    root._bokeh_timeout = Date.now() + 5000;\n    root._bokeh_failed_load = false;\n  }\n\n  function run_callbacks() {\n    try {\n      root._bokeh_onload_callbacks.forEach(function(callback) {\n        if (callback != null)\n          callback();\n      });\n    } finally {\n      delete root._bokeh_onload_callbacks;\n    }\n    console.debug(\"Bokeh: all callbacks have finished\");\n  }\n\n  function load_libs(css_urls, js_urls, js_modules, js_exports, callback) {\n    if (css_urls == null) css_urls = [];\n    if (js_urls == null) js_urls = [];\n    if (js_modules == null) js_modules = [];\n    if (js_exports == null) js_exports = {};\n\n    root._bokeh_onload_callbacks.push(callback);\n\n    if (root._bokeh_is_loading > 0) {\n      console.debug(\"Bokeh: BokehJS is being loaded, scheduling callback at\", now());\n      return null;\n    }\n    if (js_urls.length === 0 && js_modules.length === 0 && Object.keys(js_exports).length === 0) {\n      run_callbacks();\n      return null;\n    }\n    if (!reloading) {\n      console.debug(\"Bokeh: BokehJS not loaded, scheduling load and callback at\", now());\n    }\n\n    function on_load() {\n      root._bokeh_is_loading--;\n      if (root._bokeh_is_loading === 0) {\n        console.debug(\"Bokeh: all BokehJS libraries/stylesheets loaded\");\n        run_callbacks()\n      }\n    }\n    window._bokeh_on_load = on_load\n\n    function on_error() {\n      console.error(\"failed to load \" + url);\n    }\n\n    var skip = [];\n    if (window.requirejs) {\n      window.requirejs.config({'packages': {}, 'paths': {}, 'shim': {}});\n      root._bokeh_is_loading = css_urls.length + 0;\n    } else {\n      root._bokeh_is_loading = css_urls.length + js_urls.length + js_modules.length + Object.keys(js_exports).length;\n    }\n\n    var existing_stylesheets = []\n    var links = document.getElementsByTagName('link')\n    for (var i = 0; i < links.length; i++) {\n      var link = links[i]\n      if (link.href != null) {\n\texisting_stylesheets.push(link.href)\n      }\n    }\n    for (var i = 0; i < css_urls.length; i++) {\n      var url = css_urls[i];\n      if (existing_stylesheets.indexOf(url) !== -1) {\n\ton_load()\n\tcontinue;\n      }\n      const element = document.createElement(\"link\");\n      element.onload = on_load;\n      element.onerror = on_error;\n      element.rel = \"stylesheet\";\n      element.type = \"text/css\";\n      element.href = url;\n      console.debug(\"Bokeh: injecting link tag for BokehJS stylesheet: \", url);\n      document.body.appendChild(element);\n    }    var existing_scripts = []\n    var scripts = document.getElementsByTagName('script')\n    for (var i = 0; i < scripts.length; i++) {\n      var script = scripts[i]\n      if (script.src != null) {\n\texisting_scripts.push(script.src)\n      }\n    }\n    for (var i = 0; i < js_urls.length; i++) {\n      var url = js_urls[i];\n      if (skip.indexOf(url) !== -1 || existing_scripts.indexOf(url) !== -1) {\n\tif (!window.requirejs) {\n\t  on_load();\n\t}\n\tcontinue;\n      }\n      var element = document.createElement('script');\n      element.onload = on_load;\n      element.onerror = on_error;\n      element.async = false;\n      element.src = url;\n      console.debug(\"Bokeh: injecting script tag for BokehJS library: \", url);\n      document.head.appendChild(element);\n    }\n    for (var i = 0; i < js_modules.length; i++) {\n      var url = js_modules[i];\n      if (skip.indexOf(url) !== -1 || existing_scripts.indexOf(url) !== -1) {\n\tif (!window.requirejs) {\n\t  on_load();\n\t}\n\tcontinue;\n      }\n      var element = document.createElement('script');\n      element.onload = on_load;\n      element.onerror = on_error;\n      element.async = false;\n      element.src = url;\n      element.type = \"module\";\n      console.debug(\"Bokeh: injecting script tag for BokehJS library: \", url);\n      document.head.appendChild(element);\n    }\n    for (const name in js_exports) {\n      var url = js_exports[name];\n      if (skip.indexOf(url) >= 0 || root[name] != null) {\n\tif (!window.requirejs) {\n\t  on_load();\n\t}\n\tcontinue;\n      }\n      var element = document.createElement('script');\n      element.onerror = on_error;\n      element.async = false;\n      element.type = \"module\";\n      console.debug(\"Bokeh: injecting script tag for BokehJS library: \", url);\n      element.textContent = `\n      import ${name} from \"${url}\"\n      window.${name} = ${name}\n      window._bokeh_on_load()\n      `\n      document.head.appendChild(element);\n    }\n    if (!js_urls.length && !js_modules.length) {\n      on_load()\n    }\n  };\n\n  function inject_raw_css(css) {\n    const element = document.createElement(\"style\");\n    element.appendChild(document.createTextNode(css));\n    document.body.appendChild(element);\n  }\n\n  var js_urls = [\"https://cdn.bokeh.org/bokeh/release/bokeh-3.4.1.min.js\", \"https://cdn.bokeh.org/bokeh/release/bokeh-gl-3.4.1.min.js\", \"https://cdn.bokeh.org/bokeh/release/bokeh-widgets-3.4.1.min.js\", \"https://cdn.bokeh.org/bokeh/release/bokeh-tables-3.4.1.min.js\", \"https://cdn.holoviz.org/panel/1.4.4/dist/panel.min.js\"];\n  var js_modules = [];\n  var js_exports = {};\n  var css_urls = [];\n  var inline_js = [    function(Bokeh) {\n      Bokeh.set_log_level(\"info\");\n    },\nfunction(Bokeh) {} // ensure no trailing comma for IE\n  ];\n\n  function run_inline_js() {\n    if ((root.Bokeh !== undefined) || (force === true)) {\n      for (var i = 0; i < inline_js.length; i++) {\n\ttry {\n          inline_js[i].call(root, root.Bokeh);\n\t} catch(e) {\n\t  if (!reloading) {\n\t    throw e;\n\t  }\n\t}\n      }\n      // Cache old bokeh versions\n      if (Bokeh != undefined && !reloading) {\n\tvar NewBokeh = root.Bokeh;\n\tif (Bokeh.versions === undefined) {\n\t  Bokeh.versions = new Map();\n\t}\n\tif (NewBokeh.version !== Bokeh.version) {\n\t  Bokeh.versions.set(NewBokeh.version, NewBokeh)\n\t}\n\troot.Bokeh = Bokeh;\n      }} else if (Date.now() < root._bokeh_timeout) {\n      setTimeout(run_inline_js, 100);\n    } else if (!root._bokeh_failed_load) {\n      console.log(\"Bokeh: BokehJS failed to load within specified timeout.\");\n      root._bokeh_failed_load = true;\n    }\n    root._bokeh_is_initializing = false\n  }\n\n  function load_or_wait() {\n    // Implement a backoff loop that tries to ensure we do not load multiple\n    // versions of Bokeh and its dependencies at the same time.\n    // In recent versions we use the root._bokeh_is_initializing flag\n    // to determine whether there is an ongoing attempt to initialize\n    // bokeh, however for backward compatibility we also try to ensure\n    // that we do not start loading a newer (Panel>=1.0 and Bokeh>3) version\n    // before older versions are fully initialized.\n    if (root._bokeh_is_initializing && Date.now() > root._bokeh_timeout) {\n      root._bokeh_is_initializing = false;\n      root._bokeh_onload_callbacks = undefined;\n      console.log(\"Bokeh: BokehJS was loaded multiple times but one version failed to initialize.\");\n      load_or_wait();\n    } else if (root._bokeh_is_initializing || (typeof root._bokeh_is_initializing === \"undefined\" && root._bokeh_onload_callbacks !== undefined)) {\n      setTimeout(load_or_wait, 100);\n    } else {\n      root._bokeh_is_initializing = true\n      root._bokeh_onload_callbacks = []\n      var bokeh_loaded = Bokeh != null && (Bokeh.version === py_version || (Bokeh.versions !== undefined && Bokeh.versions.has(py_version)));\n      if (!reloading && !bokeh_loaded) {\n\troot.Bokeh = undefined;\n      }\n      load_libs(css_urls, js_urls, js_modules, js_exports, function() {\n\tconsole.debug(\"Bokeh: BokehJS plotting callback run at\", now());\n\trun_inline_js();\n      });\n    }\n  }\n  // Give older versions of the autoload script a head-start to ensure\n  // they initialize before we start loading newer version.\n  setTimeout(load_or_wait, 100)\n}(window));",
      "application/vnd.holoviews_load.v0+json": ""
     },
     "metadata": {},
     "output_type": "display_data"
    },
    {
     "data": {
      "application/javascript": "\nif ((window.PyViz === undefined) || (window.PyViz instanceof HTMLElement)) {\n  window.PyViz = {comms: {}, comm_status:{}, kernels:{}, receivers: {}, plot_index: []}\n}\n\n\n    function JupyterCommManager() {\n    }\n\n    JupyterCommManager.prototype.register_target = function(plot_id, comm_id, msg_handler) {\n      if (window.comm_manager || ((window.Jupyter !== undefined) && (Jupyter.notebook.kernel != null))) {\n        var comm_manager = window.comm_manager || Jupyter.notebook.kernel.comm_manager;\n        comm_manager.register_target(comm_id, function(comm) {\n          comm.on_msg(msg_handler);\n        });\n      } else if ((plot_id in window.PyViz.kernels) && (window.PyViz.kernels[plot_id])) {\n        window.PyViz.kernels[plot_id].registerCommTarget(comm_id, function(comm) {\n          comm.onMsg = msg_handler;\n        });\n      } else if (typeof google != 'undefined' && google.colab.kernel != null) {\n        google.colab.kernel.comms.registerTarget(comm_id, (comm) => {\n          var messages = comm.messages[Symbol.asyncIterator]();\n          function processIteratorResult(result) {\n            var message = result.value;\n            console.log(message)\n            var content = {data: message.data, comm_id};\n            var buffers = []\n            for (var buffer of message.buffers || []) {\n              buffers.push(new DataView(buffer))\n            }\n            var metadata = message.metadata || {};\n            var msg = {content, buffers, metadata}\n            msg_handler(msg);\n            return messages.next().then(processIteratorResult);\n          }\n          return messages.next().then(processIteratorResult);\n        })\n      }\n    }\n\n    JupyterCommManager.prototype.get_client_comm = function(plot_id, comm_id, msg_handler) {\n      if (comm_id in window.PyViz.comms) {\n        return window.PyViz.comms[comm_id];\n      } else if (window.comm_manager || ((window.Jupyter !== undefined) && (Jupyter.notebook.kernel != null))) {\n        var comm_manager = window.comm_manager || Jupyter.notebook.kernel.comm_manager;\n        var comm = comm_manager.new_comm(comm_id, {}, {}, {}, comm_id);\n        if (msg_handler) {\n          comm.on_msg(msg_handler);\n        }\n      } else if ((plot_id in window.PyViz.kernels) && (window.PyViz.kernels[plot_id])) {\n        var comm = window.PyViz.kernels[plot_id].connectToComm(comm_id);\n        comm.open();\n        if (msg_handler) {\n          comm.onMsg = msg_handler;\n        }\n      } else if (typeof google != 'undefined' && google.colab.kernel != null) {\n        var comm_promise = google.colab.kernel.comms.open(comm_id)\n        comm_promise.then((comm) => {\n          window.PyViz.comms[comm_id] = comm;\n          if (msg_handler) {\n            var messages = comm.messages[Symbol.asyncIterator]();\n            function processIteratorResult(result) {\n              var message = result.value;\n              var content = {data: message.data};\n              var metadata = message.metadata || {comm_id};\n              var msg = {content, metadata}\n              msg_handler(msg);\n              return messages.next().then(processIteratorResult);\n            }\n            return messages.next().then(processIteratorResult);\n          }\n        }) \n        var sendClosure = (data, metadata, buffers, disposeOnDone) => {\n          return comm_promise.then((comm) => {\n            comm.send(data, metadata, buffers, disposeOnDone);\n          });\n        };\n        var comm = {\n          send: sendClosure\n        };\n      }\n      window.PyViz.comms[comm_id] = comm;\n      return comm;\n    }\n    window.PyViz.comm_manager = new JupyterCommManager();\n    \n\n\nvar JS_MIME_TYPE = 'application/javascript';\nvar HTML_MIME_TYPE = 'text/html';\nvar EXEC_MIME_TYPE = 'application/vnd.holoviews_exec.v0+json';\nvar CLASS_NAME = 'output';\n\n/**\n * Render data to the DOM node\n */\nfunction render(props, node) {\n  var div = document.createElement(\"div\");\n  var script = document.createElement(\"script\");\n  node.appendChild(div);\n  node.appendChild(script);\n}\n\n/**\n * Handle when a new output is added\n */\nfunction handle_add_output(event, handle) {\n  var output_area = handle.output_area;\n  var output = handle.output;\n  if ((output.data == undefined) || (!output.data.hasOwnProperty(EXEC_MIME_TYPE))) {\n    return\n  }\n  var id = output.metadata[EXEC_MIME_TYPE][\"id\"];\n  var toinsert = output_area.element.find(\".\" + CLASS_NAME.split(' ')[0]);\n  if (id !== undefined) {\n    var nchildren = toinsert.length;\n    var html_node = toinsert[nchildren-1].children[0];\n    html_node.innerHTML = output.data[HTML_MIME_TYPE];\n    var scripts = [];\n    var nodelist = html_node.querySelectorAll(\"script\");\n    for (var i in nodelist) {\n      if (nodelist.hasOwnProperty(i)) {\n        scripts.push(nodelist[i])\n      }\n    }\n\n    scripts.forEach( function (oldScript) {\n      var newScript = document.createElement(\"script\");\n      var attrs = [];\n      var nodemap = oldScript.attributes;\n      for (var j in nodemap) {\n        if (nodemap.hasOwnProperty(j)) {\n          attrs.push(nodemap[j])\n        }\n      }\n      attrs.forEach(function(attr) { newScript.setAttribute(attr.name, attr.value) });\n      newScript.appendChild(document.createTextNode(oldScript.innerHTML));\n      oldScript.parentNode.replaceChild(newScript, oldScript);\n    });\n    if (JS_MIME_TYPE in output.data) {\n      toinsert[nchildren-1].children[1].textContent = output.data[JS_MIME_TYPE];\n    }\n    output_area._hv_plot_id = id;\n    if ((window.Bokeh !== undefined) && (id in Bokeh.index)) {\n      window.PyViz.plot_index[id] = Bokeh.index[id];\n    } else {\n      window.PyViz.plot_index[id] = null;\n    }\n  } else if (output.metadata[EXEC_MIME_TYPE][\"server_id\"] !== undefined) {\n    var bk_div = document.createElement(\"div\");\n    bk_div.innerHTML = output.data[HTML_MIME_TYPE];\n    var script_attrs = bk_div.children[0].attributes;\n    for (var i = 0; i < script_attrs.length; i++) {\n      toinsert[toinsert.length - 1].childNodes[1].setAttribute(script_attrs[i].name, script_attrs[i].value);\n    }\n    // store reference to server id on output_area\n    output_area._bokeh_server_id = output.metadata[EXEC_MIME_TYPE][\"server_id\"];\n  }\n}\n\n/**\n * Handle when an output is cleared or removed\n */\nfunction handle_clear_output(event, handle) {\n  var id = handle.cell.output_area._hv_plot_id;\n  var server_id = handle.cell.output_area._bokeh_server_id;\n  if (((id === undefined) || !(id in PyViz.plot_index)) && (server_id !== undefined)) { return; }\n  var comm = window.PyViz.comm_manager.get_client_comm(\"hv-extension-comm\", \"hv-extension-comm\", function () {});\n  if (server_id !== null) {\n    comm.send({event_type: 'server_delete', 'id': server_id});\n    return;\n  } else if (comm !== null) {\n    comm.send({event_type: 'delete', 'id': id});\n  }\n  delete PyViz.plot_index[id];\n  if ((window.Bokeh !== undefined) & (id in window.Bokeh.index)) {\n    var doc = window.Bokeh.index[id].model.document\n    doc.clear();\n    const i = window.Bokeh.documents.indexOf(doc);\n    if (i > -1) {\n      window.Bokeh.documents.splice(i, 1);\n    }\n  }\n}\n\n/**\n * Handle kernel restart event\n */\nfunction handle_kernel_cleanup(event, handle) {\n  delete PyViz.comms[\"hv-extension-comm\"];\n  window.PyViz.plot_index = {}\n}\n\n/**\n * Handle update_display_data messages\n */\nfunction handle_update_output(event, handle) {\n  handle_clear_output(event, {cell: {output_area: handle.output_area}})\n  handle_add_output(event, handle)\n}\n\nfunction register_renderer(events, OutputArea) {\n  function append_mime(data, metadata, element) {\n    // create a DOM node to render to\n    var toinsert = this.create_output_subarea(\n    metadata,\n    CLASS_NAME,\n    EXEC_MIME_TYPE\n    );\n    this.keyboard_manager.register_events(toinsert);\n    // Render to node\n    var props = {data: data, metadata: metadata[EXEC_MIME_TYPE]};\n    render(props, toinsert[0]);\n    element.append(toinsert);\n    return toinsert\n  }\n\n  events.on('output_added.OutputArea', handle_add_output);\n  events.on('output_updated.OutputArea', handle_update_output);\n  events.on('clear_output.CodeCell', handle_clear_output);\n  events.on('delete.Cell', handle_clear_output);\n  events.on('kernel_ready.Kernel', handle_kernel_cleanup);\n\n  OutputArea.prototype.register_mime_type(EXEC_MIME_TYPE, append_mime, {\n    safe: true,\n    index: 0\n  });\n}\n\nif (window.Jupyter !== undefined) {\n  try {\n    var events = require('base/js/events');\n    var OutputArea = require('notebook/js/outputarea').OutputArea;\n    if (OutputArea.prototype.mime_types().indexOf(EXEC_MIME_TYPE) == -1) {\n      register_renderer(events, OutputArea);\n    }\n  } catch(err) {\n  }\n}\n",
      "application/vnd.holoviews_load.v0+json": ""
     },
     "metadata": {},
     "output_type": "display_data"
    },
    {
     "data": {
      "text/html": [
       "<style>*[data-root-id],\n",
       "*[data-root-id] > * {\n",
       "  box-sizing: border-box;\n",
       "  font-family: var(--jp-ui-font-family);\n",
       "  font-size: var(--jp-ui-font-size1);\n",
       "  color: var(--vscode-editor-foreground, var(--jp-ui-font-color1));\n",
       "}\n",
       "\n",
       "/* Override VSCode background color */\n",
       ".cell-output-ipywidget-background:has(\n",
       "    > .cell-output-ipywidget-background > .lm-Widget > *[data-root-id]\n",
       "  ),\n",
       ".cell-output-ipywidget-background:has(> .lm-Widget > *[data-root-id]) {\n",
       "  background-color: transparent !important;\n",
       "}\n",
       "</style>"
      ]
     },
     "metadata": {},
     "output_type": "display_data"
    },
    {
     "data": {
      "application/vnd.holoviews_exec.v0+json": "",
      "text/html": [
       "<div id='04aa6b5a-fb8e-4824-81ef-511504f2dc7b'>\n",
       "  <div id=\"c75abc9f-acf9-4e1a-a33a-3abdab01e094\" data-root-id=\"04aa6b5a-fb8e-4824-81ef-511504f2dc7b\" style=\"display: contents;\"></div>\n",
       "</div>\n",
       "<script type=\"application/javascript\">(function(root) {\n",
       "  var docs_json = {\"ebad13e6-ff09-4a6a-85b8-0d4cba15e4a2\":{\"version\":\"3.4.1\",\"title\":\"Bokeh Application\",\"roots\":[{\"type\":\"object\",\"name\":\"panel.models.browser.BrowserInfo\",\"id\":\"04aa6b5a-fb8e-4824-81ef-511504f2dc7b\"},{\"type\":\"object\",\"name\":\"panel.models.comm_manager.CommManager\",\"id\":\"248b4f83-8979-4e58-8983-d28ba9601dac\",\"attributes\":{\"plot_id\":\"04aa6b5a-fb8e-4824-81ef-511504f2dc7b\",\"comm_id\":\"fde3f163d94a4a9ea056eecbe964be30\",\"client_comm_id\":\"e63ac003cbeb45e085b5dfd2d9f6a851\"}}],\"defs\":[{\"type\":\"model\",\"name\":\"ReactiveHTML1\"},{\"type\":\"model\",\"name\":\"FlexBox1\",\"properties\":[{\"name\":\"align_content\",\"kind\":\"Any\",\"default\":\"flex-start\"},{\"name\":\"align_items\",\"kind\":\"Any\",\"default\":\"flex-start\"},{\"name\":\"flex_direction\",\"kind\":\"Any\",\"default\":\"row\"},{\"name\":\"flex_wrap\",\"kind\":\"Any\",\"default\":\"wrap\"},{\"name\":\"gap\",\"kind\":\"Any\",\"default\":\"\"},{\"name\":\"justify_content\",\"kind\":\"Any\",\"default\":\"flex-start\"}]},{\"type\":\"model\",\"name\":\"FloatPanel1\",\"properties\":[{\"name\":\"config\",\"kind\":\"Any\",\"default\":{\"type\":\"map\"}},{\"name\":\"contained\",\"kind\":\"Any\",\"default\":true},{\"name\":\"position\",\"kind\":\"Any\",\"default\":\"right-top\"},{\"name\":\"offsetx\",\"kind\":\"Any\",\"default\":null},{\"name\":\"offsety\",\"kind\":\"Any\",\"default\":null},{\"name\":\"theme\",\"kind\":\"Any\",\"default\":\"primary\"},{\"name\":\"status\",\"kind\":\"Any\",\"default\":\"normalized\"}]},{\"type\":\"model\",\"name\":\"GridStack1\",\"properties\":[{\"name\":\"mode\",\"kind\":\"Any\",\"default\":\"warn\"},{\"name\":\"ncols\",\"kind\":\"Any\",\"default\":null},{\"name\":\"nrows\",\"kind\":\"Any\",\"default\":null},{\"name\":\"allow_resize\",\"kind\":\"Any\",\"default\":true},{\"name\":\"allow_drag\",\"kind\":\"Any\",\"default\":true},{\"name\":\"state\",\"kind\":\"Any\",\"default\":[]}]},{\"type\":\"model\",\"name\":\"drag1\",\"properties\":[{\"name\":\"slider_width\",\"kind\":\"Any\",\"default\":5},{\"name\":\"slider_color\",\"kind\":\"Any\",\"default\":\"black\"},{\"name\":\"value\",\"kind\":\"Any\",\"default\":50}]},{\"type\":\"model\",\"name\":\"click1\",\"properties\":[{\"name\":\"terminal_output\",\"kind\":\"Any\",\"default\":\"\"},{\"name\":\"debug_name\",\"kind\":\"Any\",\"default\":\"\"},{\"name\":\"clears\",\"kind\":\"Any\",\"default\":0}]},{\"type\":\"model\",\"name\":\"FastWrapper1\",\"properties\":[{\"name\":\"object\",\"kind\":\"Any\",\"default\":null},{\"name\":\"style\",\"kind\":\"Any\",\"default\":null}]},{\"type\":\"model\",\"name\":\"NotificationAreaBase1\",\"properties\":[{\"name\":\"js_events\",\"kind\":\"Any\",\"default\":{\"type\":\"map\"}},{\"name\":\"position\",\"kind\":\"Any\",\"default\":\"bottom-right\"},{\"name\":\"_clear\",\"kind\":\"Any\",\"default\":0}]},{\"type\":\"model\",\"name\":\"NotificationArea1\",\"properties\":[{\"name\":\"js_events\",\"kind\":\"Any\",\"default\":{\"type\":\"map\"}},{\"name\":\"notifications\",\"kind\":\"Any\",\"default\":[]},{\"name\":\"position\",\"kind\":\"Any\",\"default\":\"bottom-right\"},{\"name\":\"_clear\",\"kind\":\"Any\",\"default\":0},{\"name\":\"types\",\"kind\":\"Any\",\"default\":[{\"type\":\"map\",\"entries\":[[\"type\",\"warning\"],[\"background\",\"#ffc107\"],[\"icon\",{\"type\":\"map\",\"entries\":[[\"className\",\"fas fa-exclamation-triangle\"],[\"tagName\",\"i\"],[\"color\",\"white\"]]}]]},{\"type\":\"map\",\"entries\":[[\"type\",\"info\"],[\"background\",\"#007bff\"],[\"icon\",{\"type\":\"map\",\"entries\":[[\"className\",\"fas fa-info-circle\"],[\"tagName\",\"i\"],[\"color\",\"white\"]]}]]}]}]},{\"type\":\"model\",\"name\":\"Notification\",\"properties\":[{\"name\":\"background\",\"kind\":\"Any\",\"default\":null},{\"name\":\"duration\",\"kind\":\"Any\",\"default\":3000},{\"name\":\"icon\",\"kind\":\"Any\",\"default\":null},{\"name\":\"message\",\"kind\":\"Any\",\"default\":\"\"},{\"name\":\"notification_type\",\"kind\":\"Any\",\"default\":null},{\"name\":\"_destroyed\",\"kind\":\"Any\",\"default\":false}]},{\"type\":\"model\",\"name\":\"TemplateActions1\",\"properties\":[{\"name\":\"open_modal\",\"kind\":\"Any\",\"default\":0},{\"name\":\"close_modal\",\"kind\":\"Any\",\"default\":0}]},{\"type\":\"model\",\"name\":\"BootstrapTemplateActions1\",\"properties\":[{\"name\":\"open_modal\",\"kind\":\"Any\",\"default\":0},{\"name\":\"close_modal\",\"kind\":\"Any\",\"default\":0}]},{\"type\":\"model\",\"name\":\"TemplateEditor1\",\"properties\":[{\"name\":\"layout\",\"kind\":\"Any\",\"default\":[]}]},{\"type\":\"model\",\"name\":\"MaterialTemplateActions1\",\"properties\":[{\"name\":\"open_modal\",\"kind\":\"Any\",\"default\":0},{\"name\":\"close_modal\",\"kind\":\"Any\",\"default\":0}]},{\"type\":\"model\",\"name\":\"copy_to_clipboard1\",\"properties\":[{\"name\":\"fill\",\"kind\":\"Any\",\"default\":\"none\"},{\"name\":\"value\",\"kind\":\"Any\",\"default\":null}]}]}};\n",
       "  var render_items = [{\"docid\":\"ebad13e6-ff09-4a6a-85b8-0d4cba15e4a2\",\"roots\":{\"04aa6b5a-fb8e-4824-81ef-511504f2dc7b\":\"c75abc9f-acf9-4e1a-a33a-3abdab01e094\"},\"root_ids\":[\"04aa6b5a-fb8e-4824-81ef-511504f2dc7b\"]}];\n",
       "  var docs = Object.values(docs_json)\n",
       "  if (!docs) {\n",
       "    return\n",
       "  }\n",
       "  const py_version = docs[0].version.replace('rc', '-rc.').replace('.dev', '-dev.')\n",
       "  async function embed_document(root) {\n",
       "    var Bokeh = get_bokeh(root)\n",
       "    await Bokeh.embed.embed_items_notebook(docs_json, render_items);\n",
       "    for (const render_item of render_items) {\n",
       "      for (const root_id of render_item.root_ids) {\n",
       "\tconst id_el = document.getElementById(root_id)\n",
       "\tif (id_el.children.length && id_el.children[0].hasAttribute('data-root-id')) {\n",
       "\t  const root_el = id_el.children[0]\n",
       "\t  root_el.id = root_el.id + '-rendered'\n",
       "\t  for (const child of root_el.children) {\n",
       "            // Ensure JupyterLab does not capture keyboard shortcuts\n",
       "            // see: https://jupyterlab.readthedocs.io/en/4.1.x/extension/notebook.html#keyboard-interaction-model\n",
       "\t    child.setAttribute('data-lm-suppress-shortcuts', 'true')\n",
       "\t  }\n",
       "\t}\n",
       "      }\n",
       "    }\n",
       "  }\n",
       "  function get_bokeh(root) {\n",
       "    if (root.Bokeh === undefined) {\n",
       "      return null\n",
       "    } else if (root.Bokeh.version !== py_version) {\n",
       "      if (root.Bokeh.versions === undefined || !root.Bokeh.versions.has(py_version)) {\n",
       "\treturn null\n",
       "      }\n",
       "      return root.Bokeh.versions.get(py_version);\n",
       "    } else if (root.Bokeh.version === py_version) {\n",
       "      return root.Bokeh\n",
       "    }\n",
       "    return null\n",
       "  }\n",
       "  function is_loaded(root) {\n",
       "    var Bokeh = get_bokeh(root)\n",
       "    return (Bokeh != null && Bokeh.Panel !== undefined)\n",
       "  }\n",
       "  if (is_loaded(root)) {\n",
       "    embed_document(root);\n",
       "  } else {\n",
       "    var attempts = 0;\n",
       "    var timer = setInterval(function(root) {\n",
       "      if (is_loaded(root)) {\n",
       "        clearInterval(timer);\n",
       "        embed_document(root);\n",
       "      } else if (document.readyState == \"complete\") {\n",
       "        attempts++;\n",
       "        if (attempts > 200) {\n",
       "          clearInterval(timer);\n",
       "\t  var Bokeh = get_bokeh(root)\n",
       "\t  if (Bokeh == null || Bokeh.Panel == null) {\n",
       "            console.warn(\"Panel: ERROR: Unable to run Panel code because Bokeh or Panel library is missing\");\n",
       "\t  } else {\n",
       "\t    console.warn(\"Panel: WARNING: Attempting to render but not all required libraries could be resolved.\")\n",
       "\t    embed_document(root)\n",
       "\t  }\n",
       "        }\n",
       "      }\n",
       "    }, 25, root)\n",
       "  }\n",
       "})(window);</script>"
      ]
     },
     "metadata": {
      "application/vnd.holoviews_exec.v0+json": {
       "id": "04aa6b5a-fb8e-4824-81ef-511504f2dc7b"
      }
     },
     "output_type": "display_data"
    }
   ],
   "source": [
    "pn.extension()"
   ]
  },
  {
   "cell_type": "code",
   "execution_count": 58,
   "metadata": {},
   "outputs": [],
   "source": [
    "import param\n",
    "\n",
    "from pyllments.base.model_base import Model\n",
    "from pyllments.payloads.message import MessagePayload\n",
    "\n",
    "class ChatInterfaceModel(Model):\n",
    "    message_list = param.List(default=[], instantiate=True)\n",
    "    persist = param.Boolean(default=False, instantiate=True)\n",
    "    new_messages = param.List(item_type=MessagePayload, doc=\"\"\"\n",
    "        Temporary list of new messages to be added to the message list.\n",
    "        Needs to be triggered to register an event due to mutability of list\"\"\")\n",
    "    new_messages_event = param.Event()\n",
    "    \n",
    "    def __init__(self, **params):\n",
    "        super().__init__(**params)\n",
    "\n",
    "        self.create_watchers()\n",
    "\n",
    "    def create_watchers(self):\n",
    "        self.param.watch(self._new_messages_updated, 'new_messages')\n",
    "\n",
    "    def _new_messages_updated(self, event):\n",
    "        print(event)\n",
    "        # self.message_list.extend(new)\n",
    "        # self.new_messages = []\n",
    "        # self.message_list.append(('human', 'what is the capital of the moon?'))\n"
   ]
  },
  {
   "cell_type": "code",
   "execution_count": 59,
   "metadata": {},
   "outputs": [],
   "source": [
    "import panel as pn\n",
    "import param\n",
    "\n",
    "from pyllments.base.element_base import Element\n",
    "from pyllments.base.model_base import Model\n",
    "# from pyllments.elements.chat_interface import ChatInterfaceModel\n",
    "from pyllments.payloads.message import MessagePayload\n",
    "\n",
    "class ChatInterfaceElement(Element):\n",
    "    \"\"\"\n",
    "    Model:\n",
    "    - messages in the chat\n",
    "    - message input\n",
    "    Views:\n",
    "    - chat feed: \n",
    "    - chat input\n",
    "    - send button:\n",
    "    Ports:\n",
    "    - input:\n",
    "        - MessagePayload\n",
    "    - output port\n",
    "        - MessagePayload\n",
    "    \"\"\"\n",
    "    model = param.ClassSelector(\n",
    "        class_=Model,\n",
    "        is_instance=True,\n",
    "        default=ChatInterfaceModel()\n",
    "    )\n",
    "\n",
    "    persist = param.Boolean(default=False, instantiate=True, doc=\"\"\"\n",
    "        Whether to persist messages to disk between sessions.\"\"\")\n",
    "\n",
    "    chatfeed_view = param.ClassSelector(class_=pn.chat.ChatFeed, is_instance=True)\n",
    "    chat_input_view = param.ClassSelector(class_=pn.chat.ChatAreaInput, is_instance=True)\n",
    "    send_button_view = param.ClassSelector(class_=pn.widgets.Button, is_instance=True)\n",
    "\n",
    "    def __init__(self, **params):\n",
    "        super().__init__(**params)\n",
    "        self.model.persist = self.persist\n",
    "        \n",
    "        # self.ports.add_input('message_input',)\n",
    "        # self.ports.add_ouput('message_output', )\n",
    "\n",
    "    def _message_input_unpack_payload(self, payload: MessagePayload):\n",
    "\n",
    "        return payload\n",
    "\n",
    "    def _message_output_pack_payload(self,) -> MessagePayload:\n",
    "        pass\n",
    "    \n",
    "    def create_chatfeed_view(self, **kwargs):\n",
    "        \"\"\"\n",
    "        Creates and returns a new instance of ChatFeed view.\n",
    "        \"\"\"\n",
    "        self.chatfeed_view = pn.chat.ChatFeed(**kwargs)\n",
    "        return self.chatfeed_view\n",
    "    \n",
    "    def create_chat_input_view(self, **kwargs):\n",
    "        \"\"\"\n",
    "        Creates and returns a new instance of ChatAreaInput view.\n",
    "        \"\"\"\n",
    "        self.chat_input_view = pn.chat.ChatAreaInput(**kwargs)\n",
    "        return self.chat_input_view\n",
    "\n",
    "    def create_send_button_view(self, **kwargs):\n",
    "        \"\"\"\n",
    "        Creates and returns a new instance of Button view for sending messages.\n",
    "        \"\"\"\n",
    "        self.send_button_view = pn.widgets.Button(name='send', **kwargs)\n",
    "        self.send_button_view.on_click(self._on_send)\n",
    "\n",
    "        return self.send_button_view\n",
    "\n",
    "    def _on_send(self, event):\n",
    "        \"\"\"\n",
    "        Handles the send button event by appending the user's message to the chat model,\n",
    "        clearing the input field, and updating the chat feed view.\n",
    "        \"\"\"\n",
    "        print(event)\n",
    "        if self.chat_input_view:\n",
    "            self.model.new_messages.append(self.chat_input_view.value)\n",
    "            self.model.param.trigger('new_messages')\n",
    "            self.chat_input_view.value = ''\n",
    "        # self.chatfeed_view.update()\n"
   ]
  },
  {
   "cell_type": "code",
   "execution_count": 60,
   "metadata": {},
   "outputs": [
    {
     "data": {
      "application/vnd.jupyter.widget-view+json": {
       "model_id": "6409d501afbc4696bcf9c879fe3e3bac",
       "version_major": 2,
       "version_minor": 0
      },
      "text/plain": [
       "BokehModel(combine_events=True, render_bundle={'docs_json': {'e7c53e4e-4041-42d0-bed1-7903323c0eb1': {'version…"
      ]
     },
     "execution_count": 60,
     "metadata": {},
     "output_type": "execute_result"
    },
    {
     "name": "stdout",
     "output_type": "stream",
     "text": [
      "Event(what='value', name='clicks', obj=Button(clicks=1, name='send'), cls=Button(clicks=1, name='send'), old=0, new=1, type='set')\n"
     ]
    },
    {
     "ename": "TypeError",
     "evalue": "List parameter 'ChatInterfaceModel.new_messages' items must be instances of <class 'pyllments.payloads.message.message_payload.MessagePayload'>, not <class 'str'>.",
     "output_type": "error",
     "traceback": [
      "\u001b[0;31m---------------------------------------------------------------------------\u001b[0m",
      "\u001b[0;31mTypeError\u001b[0m                                 Traceback (most recent call last)",
      "File \u001b[0;32m~/miniconda3/envs/pyllments/lib/python3.12/site-packages/jupyter_bokeh/widgets.py:170\u001b[0m, in \u001b[0;36mBokehModel._sync_model\u001b[0;34m(self, _model, content, _buffers)\u001b[0m\n\u001b[1;32m    168\u001b[0m msg_data \u001b[38;5;241m=\u001b[39m event[\u001b[38;5;124m\"\u001b[39m\u001b[38;5;124mmsg_data\u001b[39m\u001b[38;5;124m\"\u001b[39m]\n\u001b[1;32m    169\u001b[0m \u001b[38;5;28;01mif\u001b[39;00m msg_type \u001b[38;5;241m==\u001b[39m \u001b[38;5;124m\"\u001b[39m\u001b[38;5;124mbokeh_event\u001b[39m\u001b[38;5;124m\"\u001b[39m:\n\u001b[0;32m--> 170\u001b[0m     \u001b[38;5;28mself\u001b[39m\u001b[38;5;241m.\u001b[39m_document\u001b[38;5;241m.\u001b[39mcallbacks\u001b[38;5;241m.\u001b[39mtrigger_event(msg_data)\n",
      "File \u001b[0;32m~/miniconda3/envs/pyllments/lib/python3.12/site-packages/bokeh/document/callbacks.py:390\u001b[0m, in \u001b[0;36mDocumentCallbackManager.trigger_event\u001b[0;34m(self, event)\u001b[0m\n\u001b[1;32m    388\u001b[0m         model \u001b[38;5;241m=\u001b[39m model_ref()\n\u001b[1;32m    389\u001b[0m         \u001b[38;5;28;01mif\u001b[39;00m model:\n\u001b[0;32m--> 390\u001b[0m             model\u001b[38;5;241m.\u001b[39m_trigger_event(event)\n\u001b[1;32m    392\u001b[0m \u001b[38;5;28;01mfor\u001b[39;00m cb \u001b[38;5;129;01min\u001b[39;00m \u001b[38;5;28mself\u001b[39m\u001b[38;5;241m.\u001b[39mevent_callbacks_for_event_name(event\u001b[38;5;241m.\u001b[39mevent_name):\n\u001b[1;32m    393\u001b[0m     cb(event)\n",
      "File \u001b[0;32m~/miniconda3/envs/pyllments/lib/python3.12/site-packages/bokeh/util/callback_manager.py:113\u001b[0m, in \u001b[0;36mEventCallbackManager._trigger_event\u001b[0;34m(self, event)\u001b[0m\n\u001b[1;32m    111\u001b[0m \u001b[38;5;28;01mif\u001b[39;00m \u001b[38;5;28mself\u001b[39m\u001b[38;5;241m.\u001b[39mdocument \u001b[38;5;129;01mis\u001b[39;00m \u001b[38;5;129;01mnot\u001b[39;00m \u001b[38;5;28;01mNone\u001b[39;00m:\n\u001b[1;32m    112\u001b[0m     \u001b[38;5;28;01mfrom\u001b[39;00m \u001b[38;5;21;01m.\u001b[39;00m\u001b[38;5;21;01m.\u001b[39;00m\u001b[38;5;21;01mmodel\u001b[39;00m \u001b[38;5;28;01mimport\u001b[39;00m Model\n\u001b[0;32m--> 113\u001b[0m     \u001b[38;5;28mself\u001b[39m\u001b[38;5;241m.\u001b[39mdocument\u001b[38;5;241m.\u001b[39mcallbacks\u001b[38;5;241m.\u001b[39mnotify_event(cast(Model, \u001b[38;5;28mself\u001b[39m), event, invoke)\n\u001b[1;32m    114\u001b[0m \u001b[38;5;28;01melse\u001b[39;00m:\n\u001b[1;32m    115\u001b[0m     invoke()\n",
      "File \u001b[0;32m~/miniconda3/envs/pyllments/lib/python3.12/site-packages/bokeh/document/callbacks.py:260\u001b[0m, in \u001b[0;36mDocumentCallbackManager.notify_event\u001b[0;34m(self, model, event, callback_invoker)\u001b[0m\n\u001b[1;32m    257\u001b[0m     \u001b[38;5;28;01mreturn\u001b[39;00m\n\u001b[1;32m    259\u001b[0m \u001b[38;5;66;03m# TODO (bev): use internal event here to dispatch, rather than hard-coding invocation here\u001b[39;00m\n\u001b[0;32m--> 260\u001b[0m invoke_with_curdoc(doc, callback_invoker)\n",
      "File \u001b[0;32m~/miniconda3/envs/pyllments/lib/python3.12/site-packages/bokeh/document/callbacks.py:443\u001b[0m, in \u001b[0;36minvoke_with_curdoc\u001b[0;34m(doc, f)\u001b[0m\n\u001b[1;32m    440\u001b[0m curdoc: Document\u001b[38;5;241m|\u001b[39mUnlockedDocumentProxy \u001b[38;5;241m=\u001b[39m UnlockedDocumentProxy(doc) \u001b[38;5;28;01mif\u001b[39;00m \u001b[38;5;28mgetattr\u001b[39m(f, \u001b[38;5;124m\"\u001b[39m\u001b[38;5;124mnolock\u001b[39m\u001b[38;5;124m\"\u001b[39m, \u001b[38;5;28;01mFalse\u001b[39;00m) \u001b[38;5;28;01melse\u001b[39;00m doc\n\u001b[1;32m    442\u001b[0m \u001b[38;5;28;01mwith\u001b[39;00m patch_curdoc(curdoc):\n\u001b[0;32m--> 443\u001b[0m     \u001b[38;5;28;01mreturn\u001b[39;00m f()\n",
      "File \u001b[0;32m~/miniconda3/envs/pyllments/lib/python3.12/site-packages/bokeh/util/callback_manager.py:109\u001b[0m, in \u001b[0;36mEventCallbackManager._trigger_event.<locals>.invoke\u001b[0;34m()\u001b[0m\n\u001b[1;32m    107\u001b[0m     cast(EventCallbackWithoutEvent, callback)()\n\u001b[1;32m    108\u001b[0m \u001b[38;5;28;01melse\u001b[39;00m:\n\u001b[0;32m--> 109\u001b[0m     cast(EventCallbackWithEvent, callback)(event)\n",
      "File \u001b[0;32m~/miniconda3/envs/pyllments/lib/python3.12/site-packages/panel/reactive.py:497\u001b[0m, in \u001b[0;36mSyncable._server_event\u001b[0;34m(self, doc, event)\u001b[0m\n\u001b[1;32m    493\u001b[0m     doc\u001b[38;5;241m.\u001b[39madd_next_tick_callback(\n\u001b[1;32m    494\u001b[0m         partial(\u001b[38;5;28mself\u001b[39m\u001b[38;5;241m.\u001b[39m_event_coroutine, doc, event) \u001b[38;5;66;03m# type: ignore\u001b[39;00m\n\u001b[1;32m    495\u001b[0m     )\n\u001b[1;32m    496\u001b[0m \u001b[38;5;28;01melse\u001b[39;00m:\n\u001b[0;32m--> 497\u001b[0m     \u001b[38;5;28mself\u001b[39m\u001b[38;5;241m.\u001b[39m_comm_event(doc, event)\n",
      "File \u001b[0;32m~/miniconda3/envs/pyllments/lib/python3.12/site-packages/panel/reactive.py:484\u001b[0m, in \u001b[0;36mSyncable._comm_event\u001b[0;34m(self, doc, event)\u001b[0m\n\u001b[1;32m    482\u001b[0m     \u001b[38;5;28mself\u001b[39m\u001b[38;5;241m.\u001b[39m_process_bokeh_event(doc, event)\n\u001b[1;32m    483\u001b[0m \u001b[38;5;28;01mexcept\u001b[39;00m \u001b[38;5;167;01mException\u001b[39;00m \u001b[38;5;28;01mas\u001b[39;00m e:\n\u001b[0;32m--> 484\u001b[0m     state\u001b[38;5;241m.\u001b[39m_handle_exception(e)\n",
      "File \u001b[0;32m~/miniconda3/envs/pyllments/lib/python3.12/site-packages/panel/io/state.py:458\u001b[0m, in \u001b[0;36m_state._handle_exception\u001b[0;34m(self, exception)\u001b[0m\n\u001b[1;32m    456\u001b[0m     config\u001b[38;5;241m.\u001b[39mexception_handler(exception)\n\u001b[1;32m    457\u001b[0m \u001b[38;5;28;01melif\u001b[39;00m \u001b[38;5;28misinstance\u001b[39m(exception, \u001b[38;5;167;01mBaseException\u001b[39;00m):\n\u001b[0;32m--> 458\u001b[0m     \u001b[38;5;28;01mraise\u001b[39;00m exception\n\u001b[1;32m    459\u001b[0m \u001b[38;5;28;01melse\u001b[39;00m:\n\u001b[1;32m    460\u001b[0m     \u001b[38;5;28mself\u001b[39m\u001b[38;5;241m.\u001b[39mlog(\u001b[38;5;124mf\u001b[39m\u001b[38;5;124m'\u001b[39m\u001b[38;5;124mException of unknown type raised: \u001b[39m\u001b[38;5;132;01m{\u001b[39;00mexception\u001b[38;5;132;01m}\u001b[39;00m\u001b[38;5;124m'\u001b[39m, level\u001b[38;5;241m=\u001b[39m\u001b[38;5;124m'\u001b[39m\u001b[38;5;124merror\u001b[39m\u001b[38;5;124m'\u001b[39m)\n",
      "File \u001b[0;32m~/miniconda3/envs/pyllments/lib/python3.12/site-packages/panel/reactive.py:482\u001b[0m, in \u001b[0;36mSyncable._comm_event\u001b[0;34m(self, doc, event)\u001b[0m\n\u001b[1;32m    480\u001b[0m \u001b[38;5;28;01melse\u001b[39;00m:\n\u001b[1;32m    481\u001b[0m     \u001b[38;5;28;01mtry\u001b[39;00m:\n\u001b[0;32m--> 482\u001b[0m         \u001b[38;5;28mself\u001b[39m\u001b[38;5;241m.\u001b[39m_process_bokeh_event(doc, event)\n\u001b[1;32m    483\u001b[0m     \u001b[38;5;28;01mexcept\u001b[39;00m \u001b[38;5;167;01mException\u001b[39;00m \u001b[38;5;28;01mas\u001b[39;00m e:\n\u001b[1;32m    484\u001b[0m         state\u001b[38;5;241m.\u001b[39m_handle_exception(e)\n",
      "File \u001b[0;32m~/miniconda3/envs/pyllments/lib/python3.12/site-packages/panel/reactive.py:419\u001b[0m, in \u001b[0;36mSyncable._process_bokeh_event\u001b[0;34m(self, doc, event)\u001b[0m\n\u001b[1;32m    417\u001b[0m \u001b[38;5;28;01mtry\u001b[39;00m:\n\u001b[1;32m    418\u001b[0m     \u001b[38;5;28;01mwith\u001b[39;00m set_curdoc(doc):\n\u001b[0;32m--> 419\u001b[0m         \u001b[38;5;28mself\u001b[39m\u001b[38;5;241m.\u001b[39m_process_event(event)\n\u001b[1;32m    420\u001b[0m \u001b[38;5;28;01mfinally\u001b[39;00m:\n\u001b[1;32m    421\u001b[0m     \u001b[38;5;28mself\u001b[39m\u001b[38;5;241m.\u001b[39m_log(\u001b[38;5;124m'\u001b[39m\u001b[38;5;124mfinished processing bokeh event \u001b[39m\u001b[38;5;132;01m%s\u001b[39;00m\u001b[38;5;124m'\u001b[39m, event)\n",
      "File \u001b[0;32m~/miniconda3/envs/pyllments/lib/python3.12/site-packages/panel/widgets/button.py:242\u001b[0m, in \u001b[0;36mButton._process_event\u001b[0;34m(self, event)\u001b[0m\n\u001b[1;32m    240\u001b[0m \u001b[38;5;28;01mdef\u001b[39;00m \u001b[38;5;21m_process_event\u001b[39m(\u001b[38;5;28mself\u001b[39m, event: ButtonClick) \u001b[38;5;241m-\u001b[39m\u001b[38;5;241m>\u001b[39m \u001b[38;5;28;01mNone\u001b[39;00m:\n\u001b[1;32m    241\u001b[0m     \u001b[38;5;28mself\u001b[39m\u001b[38;5;241m.\u001b[39mparam\u001b[38;5;241m.\u001b[39mtrigger(\u001b[38;5;124m'\u001b[39m\u001b[38;5;124mvalue\u001b[39m\u001b[38;5;124m'\u001b[39m)\n\u001b[0;32m--> 242\u001b[0m     \u001b[38;5;28mself\u001b[39m\u001b[38;5;241m.\u001b[39mclicks \u001b[38;5;241m+\u001b[39m\u001b[38;5;241m=\u001b[39m \u001b[38;5;241m1\u001b[39m\n",
      "File \u001b[0;32m~/miniconda3/envs/pyllments/lib/python3.12/site-packages/param/parameterized.py:528\u001b[0m, in \u001b[0;36minstance_descriptor.<locals>._f\u001b[0;34m(self, obj, val)\u001b[0m\n\u001b[1;32m    526\u001b[0m         instance_param \u001b[38;5;241m=\u001b[39m _instantiated_parameter(obj, \u001b[38;5;28mself\u001b[39m)\n\u001b[1;32m    527\u001b[0m     \u001b[38;5;28;01mif\u001b[39;00m instance_param \u001b[38;5;129;01mis\u001b[39;00m \u001b[38;5;129;01mnot\u001b[39;00m \u001b[38;5;28;01mNone\u001b[39;00m \u001b[38;5;129;01mand\u001b[39;00m \u001b[38;5;28mself\u001b[39m \u001b[38;5;129;01mis\u001b[39;00m \u001b[38;5;129;01mnot\u001b[39;00m instance_param:\n\u001b[0;32m--> 528\u001b[0m         instance_param\u001b[38;5;241m.\u001b[39m\u001b[38;5;21m__set__\u001b[39m(obj, val)\n\u001b[1;32m    529\u001b[0m         \u001b[38;5;28;01mreturn\u001b[39;00m\n\u001b[1;32m    530\u001b[0m \u001b[38;5;28;01mreturn\u001b[39;00m f(\u001b[38;5;28mself\u001b[39m, obj, val)\n",
      "File \u001b[0;32m~/miniconda3/envs/pyllments/lib/python3.12/site-packages/param/parameterized.py:530\u001b[0m, in \u001b[0;36minstance_descriptor.<locals>._f\u001b[0;34m(self, obj, val)\u001b[0m\n\u001b[1;32m    528\u001b[0m         instance_param\u001b[38;5;241m.\u001b[39m\u001b[38;5;21m__set__\u001b[39m(obj, val)\n\u001b[1;32m    529\u001b[0m         \u001b[38;5;28;01mreturn\u001b[39;00m\n\u001b[0;32m--> 530\u001b[0m \u001b[38;5;28;01mreturn\u001b[39;00m f(\u001b[38;5;28mself\u001b[39m, obj, val)\n",
      "File \u001b[0;32m~/miniconda3/envs/pyllments/lib/python3.12/site-packages/param/parameters.py:543\u001b[0m, in \u001b[0;36mDynamic.__set__\u001b[0;34m(self, obj, val)\u001b[0m\n\u001b[1;32m    534\u001b[0m \u001b[38;5;129m@instance_descriptor\u001b[39m\n\u001b[1;32m    535\u001b[0m \u001b[38;5;28;01mdef\u001b[39;00m \u001b[38;5;21m__set__\u001b[39m(\u001b[38;5;28mself\u001b[39m,obj,val):\n\u001b[1;32m    536\u001b[0m \u001b[38;5;250m    \u001b[39m\u001b[38;5;124;03m\"\"\"\u001b[39;00m\n\u001b[1;32m    537\u001b[0m \u001b[38;5;124;03m    Call the superclass's set and keep this parameter's\u001b[39;00m\n\u001b[1;32m    538\u001b[0m \u001b[38;5;124;03m    instantiate value up to date (dynamic parameters\u001b[39;00m\n\u001b[0;32m   (...)\u001b[0m\n\u001b[1;32m    541\u001b[0m \u001b[38;5;124;03m    If val is dynamic, initialize it as a generator.\u001b[39;00m\n\u001b[1;32m    542\u001b[0m \u001b[38;5;124;03m    \"\"\"\u001b[39;00m\n\u001b[0;32m--> 543\u001b[0m     \u001b[38;5;28msuper\u001b[39m()\u001b[38;5;241m.\u001b[39m\u001b[38;5;21m__set__\u001b[39m(obj,val)\n\u001b[1;32m    545\u001b[0m     dynamic \u001b[38;5;241m=\u001b[39m \u001b[38;5;28mcallable\u001b[39m(val)\n\u001b[1;32m    546\u001b[0m     \u001b[38;5;28;01mif\u001b[39;00m dynamic: \u001b[38;5;28mself\u001b[39m\u001b[38;5;241m.\u001b[39m_initialize_generator(val,obj)\n",
      "File \u001b[0;32m~/miniconda3/envs/pyllments/lib/python3.12/site-packages/param/parameterized.py:530\u001b[0m, in \u001b[0;36minstance_descriptor.<locals>._f\u001b[0;34m(self, obj, val)\u001b[0m\n\u001b[1;32m    528\u001b[0m         instance_param\u001b[38;5;241m.\u001b[39m\u001b[38;5;21m__set__\u001b[39m(obj, val)\n\u001b[1;32m    529\u001b[0m         \u001b[38;5;28;01mreturn\u001b[39;00m\n\u001b[0;32m--> 530\u001b[0m \u001b[38;5;28;01mreturn\u001b[39;00m f(\u001b[38;5;28mself\u001b[39m, obj, val)\n",
      "File \u001b[0;32m~/miniconda3/envs/pyllments/lib/python3.12/site-packages/param/parameterized.py:1552\u001b[0m, in \u001b[0;36mParameter.__set__\u001b[0;34m(self, obj, val)\u001b[0m\n\u001b[1;32m   1550\u001b[0m \u001b[38;5;66;03m# Copy watchers here since they may be modified inplace during iteration\u001b[39;00m\n\u001b[1;32m   1551\u001b[0m \u001b[38;5;28;01mfor\u001b[39;00m watcher \u001b[38;5;129;01min\u001b[39;00m \u001b[38;5;28msorted\u001b[39m(watchers, key\u001b[38;5;241m=\u001b[39m\u001b[38;5;28;01mlambda\u001b[39;00m w: w\u001b[38;5;241m.\u001b[39mprecedence):\n\u001b[0;32m-> 1552\u001b[0m     obj\u001b[38;5;241m.\u001b[39mparam\u001b[38;5;241m.\u001b[39m_call_watcher(watcher, event)\n\u001b[1;32m   1553\u001b[0m \u001b[38;5;28;01mif\u001b[39;00m \u001b[38;5;129;01mnot\u001b[39;00m obj\u001b[38;5;241m.\u001b[39mparam\u001b[38;5;241m.\u001b[39m_BATCH_WATCH:\n\u001b[1;32m   1554\u001b[0m     obj\u001b[38;5;241m.\u001b[39mparam\u001b[38;5;241m.\u001b[39m_batch_call_watchers()\n",
      "File \u001b[0;32m~/miniconda3/envs/pyllments/lib/python3.12/site-packages/param/parameterized.py:2525\u001b[0m, in \u001b[0;36mParameters._call_watcher\u001b[0;34m(self_, watcher, event)\u001b[0m\n\u001b[1;32m   2523\u001b[0m event \u001b[38;5;241m=\u001b[39m self_\u001b[38;5;241m.\u001b[39m_update_event_type(watcher, event, self_\u001b[38;5;241m.\u001b[39m_TRIGGER)\n\u001b[1;32m   2524\u001b[0m \u001b[38;5;28;01mwith\u001b[39;00m _batch_call_watchers(self_\u001b[38;5;241m.\u001b[39mself_or_cls, enable\u001b[38;5;241m=\u001b[39mwatcher\u001b[38;5;241m.\u001b[39mqueued, run\u001b[38;5;241m=\u001b[39m\u001b[38;5;28;01mFalse\u001b[39;00m):\n\u001b[0;32m-> 2525\u001b[0m     self_\u001b[38;5;241m.\u001b[39m_execute_watcher(watcher, (event,))\n",
      "File \u001b[0;32m~/miniconda3/envs/pyllments/lib/python3.12/site-packages/param/parameterized.py:2505\u001b[0m, in \u001b[0;36mParameters._execute_watcher\u001b[0;34m(self, watcher, events)\u001b[0m\n\u001b[1;32m   2503\u001b[0m \u001b[38;5;28;01melse\u001b[39;00m:\n\u001b[1;32m   2504\u001b[0m     \u001b[38;5;28;01mtry\u001b[39;00m:\n\u001b[0;32m-> 2505\u001b[0m         watcher\u001b[38;5;241m.\u001b[39mfn(\u001b[38;5;241m*\u001b[39margs, \u001b[38;5;241m*\u001b[39m\u001b[38;5;241m*\u001b[39mkwargs)\n\u001b[1;32m   2506\u001b[0m     \u001b[38;5;28;01mexcept\u001b[39;00m Skip:\n\u001b[1;32m   2507\u001b[0m         \u001b[38;5;28;01mpass\u001b[39;00m\n",
      "Cell \u001b[0;32mIn[59], line 82\u001b[0m, in \u001b[0;36mChatInterfaceElement._on_send\u001b[0;34m(self, event)\u001b[0m\n\u001b[1;32m     80\u001b[0m \u001b[38;5;28;01mif\u001b[39;00m \u001b[38;5;28mself\u001b[39m\u001b[38;5;241m.\u001b[39mchat_input_view:\n\u001b[1;32m     81\u001b[0m     \u001b[38;5;28mself\u001b[39m\u001b[38;5;241m.\u001b[39mmodel\u001b[38;5;241m.\u001b[39mnew_messages\u001b[38;5;241m.\u001b[39mappend(\u001b[38;5;28mself\u001b[39m\u001b[38;5;241m.\u001b[39mchat_input_view\u001b[38;5;241m.\u001b[39mvalue)\n\u001b[0;32m---> 82\u001b[0m     \u001b[38;5;28mself\u001b[39m\u001b[38;5;241m.\u001b[39mmodel\u001b[38;5;241m.\u001b[39mparam\u001b[38;5;241m.\u001b[39mtrigger(\u001b[38;5;124m'\u001b[39m\u001b[38;5;124mnew_messages\u001b[39m\u001b[38;5;124m'\u001b[39m)\n\u001b[1;32m     83\u001b[0m     \u001b[38;5;28mself\u001b[39m\u001b[38;5;241m.\u001b[39mchat_input_view\u001b[38;5;241m.\u001b[39mvalue \u001b[38;5;241m=\u001b[39m \u001b[38;5;124m'\u001b[39m\u001b[38;5;124m'\u001b[39m\n",
      "File \u001b[0;32m~/miniconda3/envs/pyllments/lib/python3.12/site-packages/param/parameterized.py:2473\u001b[0m, in \u001b[0;36mParameters.trigger\u001b[0;34m(self_, *param_names)\u001b[0m\n\u001b[1;32m   2471\u001b[0m params \u001b[38;5;241m=\u001b[39m {name: param_values[name] \u001b[38;5;28;01mfor\u001b[39;00m name \u001b[38;5;129;01min\u001b[39;00m param_names}\n\u001b[1;32m   2472\u001b[0m self_\u001b[38;5;241m.\u001b[39m_TRIGGER \u001b[38;5;241m=\u001b[39m \u001b[38;5;28;01mTrue\u001b[39;00m\n\u001b[0;32m-> 2473\u001b[0m self_\u001b[38;5;241m.\u001b[39mupdate(\u001b[38;5;28mdict\u001b[39m(params, \u001b[38;5;241m*\u001b[39m\u001b[38;5;241m*\u001b[39mtriggers))\n\u001b[1;32m   2474\u001b[0m self_\u001b[38;5;241m.\u001b[39m_TRIGGER \u001b[38;5;241m=\u001b[39m \u001b[38;5;28;01mFalse\u001b[39;00m\n\u001b[1;32m   2475\u001b[0m self_\u001b[38;5;241m.\u001b[39m_events \u001b[38;5;241m+\u001b[39m\u001b[38;5;241m=\u001b[39m events\n",
      "File \u001b[0;32m~/miniconda3/envs/pyllments/lib/python3.12/site-packages/param/parameterized.py:2318\u001b[0m, in \u001b[0;36mParameters.update\u001b[0;34m(self_, arg, **kwargs)\u001b[0m\n\u001b[1;32m   2316\u001b[0m         \u001b[38;5;28;01melif\u001b[39;00m pname \u001b[38;5;129;01min\u001b[39;00m private\u001b[38;5;241m.\u001b[39masync_refs:\n\u001b[1;32m   2317\u001b[0m             refs[pname] \u001b[38;5;241m=\u001b[39m private\u001b[38;5;241m.\u001b[39masync_refs[pname]\n\u001b[0;32m-> 2318\u001b[0m restore \u001b[38;5;241m=\u001b[39m \u001b[38;5;28mdict\u001b[39m(self_\u001b[38;5;241m.\u001b[39m_update(arg, \u001b[38;5;241m*\u001b[39m\u001b[38;5;241m*\u001b[39mkwargs))\n\u001b[1;32m   2319\u001b[0m \u001b[38;5;28;01mreturn\u001b[39;00m _ParametersRestorer(parameters\u001b[38;5;241m=\u001b[39mself_, restore\u001b[38;5;241m=\u001b[39mrestore, refs\u001b[38;5;241m=\u001b[39mrefs)\n",
      "File \u001b[0;32m~/miniconda3/envs/pyllments/lib/python3.12/site-packages/param/parameterized.py:2344\u001b[0m, in \u001b[0;36mParameters._update\u001b[0;34m(self_, arg, **kwargs)\u001b[0m\n\u001b[1;32m   2342\u001b[0m     \u001b[38;5;28;01mraise\u001b[39;00m \u001b[38;5;167;01mValueError\u001b[39;00m(\u001b[38;5;124mf\u001b[39m\u001b[38;5;124m\"\u001b[39m\u001b[38;5;132;01m{\u001b[39;00mk\u001b[38;5;132;01m!r}\u001b[39;00m\u001b[38;5;124m is not a parameter of \u001b[39m\u001b[38;5;132;01m{\u001b[39;00mself_\u001b[38;5;241m.\u001b[39mcls\u001b[38;5;241m.\u001b[39m\u001b[38;5;18m__name__\u001b[39m\u001b[38;5;132;01m}\u001b[39;00m\u001b[38;5;124m\"\u001b[39m)\n\u001b[1;32m   2343\u001b[0m \u001b[38;5;28;01mtry\u001b[39;00m:\n\u001b[0;32m-> 2344\u001b[0m     \u001b[38;5;28msetattr\u001b[39m(self_or_cls, k, v)\n\u001b[1;32m   2345\u001b[0m \u001b[38;5;28;01mexcept\u001b[39;00m:\n\u001b[1;32m   2346\u001b[0m     self_\u001b[38;5;241m.\u001b[39m_BATCH_WATCH \u001b[38;5;241m=\u001b[39m \u001b[38;5;28;01mFalse\u001b[39;00m\n",
      "File \u001b[0;32m~/miniconda3/envs/pyllments/lib/python3.12/site-packages/param/parameterized.py:528\u001b[0m, in \u001b[0;36minstance_descriptor.<locals>._f\u001b[0;34m(self, obj, val)\u001b[0m\n\u001b[1;32m    526\u001b[0m         instance_param \u001b[38;5;241m=\u001b[39m _instantiated_parameter(obj, \u001b[38;5;28mself\u001b[39m)\n\u001b[1;32m    527\u001b[0m     \u001b[38;5;28;01mif\u001b[39;00m instance_param \u001b[38;5;129;01mis\u001b[39;00m \u001b[38;5;129;01mnot\u001b[39;00m \u001b[38;5;28;01mNone\u001b[39;00m \u001b[38;5;129;01mand\u001b[39;00m \u001b[38;5;28mself\u001b[39m \u001b[38;5;129;01mis\u001b[39;00m \u001b[38;5;129;01mnot\u001b[39;00m instance_param:\n\u001b[0;32m--> 528\u001b[0m         instance_param\u001b[38;5;241m.\u001b[39m\u001b[38;5;21m__set__\u001b[39m(obj, val)\n\u001b[1;32m    529\u001b[0m         \u001b[38;5;28;01mreturn\u001b[39;00m\n\u001b[1;32m    530\u001b[0m \u001b[38;5;28;01mreturn\u001b[39;00m f(\u001b[38;5;28mself\u001b[39m, obj, val)\n",
      "File \u001b[0;32m~/miniconda3/envs/pyllments/lib/python3.12/site-packages/param/parameterized.py:530\u001b[0m, in \u001b[0;36minstance_descriptor.<locals>._f\u001b[0;34m(self, obj, val)\u001b[0m\n\u001b[1;32m    528\u001b[0m         instance_param\u001b[38;5;241m.\u001b[39m\u001b[38;5;21m__set__\u001b[39m(obj, val)\n\u001b[1;32m    529\u001b[0m         \u001b[38;5;28;01mreturn\u001b[39;00m\n\u001b[0;32m--> 530\u001b[0m \u001b[38;5;28;01mreturn\u001b[39;00m f(\u001b[38;5;28mself\u001b[39m, obj, val)\n",
      "File \u001b[0;32m~/miniconda3/envs/pyllments/lib/python3.12/site-packages/param/parameterized.py:1497\u001b[0m, in \u001b[0;36mParameter.__set__\u001b[0;34m(self, obj, val)\u001b[0m\n\u001b[1;32m   1489\u001b[0m     \u001b[38;5;28;01mif\u001b[39;00m \u001b[38;5;28mself\u001b[39m\u001b[38;5;241m.\u001b[39mset_hook \u001b[38;5;129;01mis\u001b[39;00m \u001b[38;5;129;01mnot\u001b[39;00m _identity_hook:\n\u001b[1;32m   1490\u001b[0m         \u001b[38;5;66;03m# PARAM3_DEPRECATION\u001b[39;00m\n\u001b[1;32m   1491\u001b[0m         warnings\u001b[38;5;241m.\u001b[39mwarn(\n\u001b[1;32m   1492\u001b[0m             \u001b[38;5;124m'\u001b[39m\u001b[38;5;124mNumber.set_hook has been deprecated.\u001b[39m\u001b[38;5;124m'\u001b[39m,\n\u001b[1;32m   1493\u001b[0m             category\u001b[38;5;241m=\u001b[39m_ParamDeprecationWarning,\n\u001b[1;32m   1494\u001b[0m             stacklevel\u001b[38;5;241m=\u001b[39m\u001b[38;5;241m6\u001b[39m,\n\u001b[1;32m   1495\u001b[0m         )\n\u001b[0;32m-> 1497\u001b[0m \u001b[38;5;28mself\u001b[39m\u001b[38;5;241m.\u001b[39m_validate(val)\n\u001b[1;32m   1499\u001b[0m _old \u001b[38;5;241m=\u001b[39m \u001b[38;5;28mNotImplemented\u001b[39m\n\u001b[1;32m   1500\u001b[0m \u001b[38;5;66;03m# obj can be None if __set__ is called for a Parameterized class\u001b[39;00m\n",
      "File \u001b[0;32m~/miniconda3/envs/pyllments/lib/python3.12/site-packages/param/parameters.py:2522\u001b[0m, in \u001b[0;36mList._validate\u001b[0;34m(self, val)\u001b[0m\n\u001b[1;32m   2520\u001b[0m \u001b[38;5;28mself\u001b[39m\u001b[38;5;241m.\u001b[39m_validate_value(val, \u001b[38;5;28mself\u001b[39m\u001b[38;5;241m.\u001b[39mallow_None)\n\u001b[1;32m   2521\u001b[0m \u001b[38;5;28mself\u001b[39m\u001b[38;5;241m.\u001b[39m_validate_bounds(val, \u001b[38;5;28mself\u001b[39m\u001b[38;5;241m.\u001b[39mbounds)\n\u001b[0;32m-> 2522\u001b[0m \u001b[38;5;28mself\u001b[39m\u001b[38;5;241m.\u001b[39m_validate_item_type(val, \u001b[38;5;28mself\u001b[39m\u001b[38;5;241m.\u001b[39mitem_type)\n",
      "File \u001b[0;32m~/miniconda3/envs/pyllments/lib/python3.12/site-packages/param/parameters.py:2564\u001b[0m, in \u001b[0;36mList._validate_item_type\u001b[0;34m(self, val, item_type)\u001b[0m\n\u001b[1;32m   2562\u001b[0m \u001b[38;5;28;01mif\u001b[39;00m \u001b[38;5;28misinstance\u001b[39m(v, item_type):\n\u001b[1;32m   2563\u001b[0m     \u001b[38;5;28;01mcontinue\u001b[39;00m\n\u001b[0;32m-> 2564\u001b[0m \u001b[38;5;28;01mraise\u001b[39;00m \u001b[38;5;167;01mTypeError\u001b[39;00m(\n\u001b[1;32m   2565\u001b[0m     \u001b[38;5;124mf\u001b[39m\u001b[38;5;124m\"\u001b[39m\u001b[38;5;132;01m{\u001b[39;00m_validate_error_prefix(\u001b[38;5;28mself\u001b[39m)\u001b[38;5;132;01m}\u001b[39;00m\u001b[38;5;124m items must be instances \u001b[39m\u001b[38;5;124m\"\u001b[39m\n\u001b[1;32m   2566\u001b[0m     \u001b[38;5;124mf\u001b[39m\u001b[38;5;124m\"\u001b[39m\u001b[38;5;124mof \u001b[39m\u001b[38;5;132;01m{\u001b[39;00mitem_type\u001b[38;5;132;01m!r}\u001b[39;00m\u001b[38;5;124m, not \u001b[39m\u001b[38;5;132;01m{\u001b[39;00m\u001b[38;5;28mtype\u001b[39m(v)\u001b[38;5;132;01m}\u001b[39;00m\u001b[38;5;124m.\u001b[39m\u001b[38;5;124m\"\u001b[39m\n\u001b[1;32m   2567\u001b[0m )\n",
      "\u001b[0;31mTypeError\u001b[0m: List parameter 'ChatInterfaceModel.new_messages' items must be instances of <class 'pyllments.payloads.message.message_payload.MessagePayload'>, not <class 'str'>."
     ]
    }
   ],
   "source": [
    "chat_interface_element = ChatInterfaceElement()\n",
    "chat_input_view = chat_interface_element.create_chat_input_view()\n",
    "chat_input_view.value = 'hello'\n",
    "\n",
    "create_send_button_view = chat_interface_element.create_send_button_view()\n",
    "pn.Row(chat_input_view, create_send_button_view).servable()"
   ]
  },
  {
   "cell_type": "code",
   "execution_count": 57,
   "metadata": {},
   "outputs": [
    {
     "data": {
      "text/html": [
       "<style>\n",
       ".param-doc-tooltip{\n",
       "  position: relative;\n",
       "  cursor: help;\n",
       "}\n",
       ".param-doc-tooltip:hover:after{\n",
       "  content: attr(data-tooltip);\n",
       "  background-color: black;\n",
       "  color: #fff;\n",
       "  border-radius: 3px;\n",
       "  padding: 10px;\n",
       "  position: absolute;\n",
       "  z-index: 1;\n",
       "  top: -5px;\n",
       "  left: 100%;\n",
       "  margin-left: 10px;\n",
       "  min-width: 250px;\n",
       "}\n",
       ".param-doc-tooltip:hover:before {\n",
       "  content: \"\";\n",
       "  position: absolute;\n",
       "  top: 50%;\n",
       "  left: 100%;\n",
       "  margin-top: -5px;\n",
       "  border-width: 5px;\n",
       "  border-style: solid;\n",
       "  border-color: transparent black transparent transparent;\n",
       "}\n",
       "</style>\n",
       "<details  open>\n",
       " <summary style=\"display:list-item; outline:none;\">\n",
       "  <tt>ChatInterfaceModel()</tt>\n",
       " </summary>\n",
       " <div style=\"padding-left:10px; padding-bottom:5px;\">\n",
       "  <table style=\"max-width:100%; border:1px solid #AAAAAA;\">\n",
       "   <tr><th style=\"text-align:left;\">Name</th><th style=\"text-align:left;\">Value</th><th style=\"text-align:left;\">Type</th><th>Range</th></tr>\n",
       "<tr>  <td><p style=\"margin-bottom: 0px;\">created_message</p></td>  <td style=\"max-width: 200px; text-align:left;\">None</td>  <td style=\"text-align:left;\">ClassSelector</td>  <td style=\"max-width: 300px;\"><i>nullable</i> MessagePayload</td></tr>\n",
       "<tr>  <td><p style=\"margin-bottom: 0px;\">message_list</p></td>  <td style=\"max-width: 200px; text-align:left;\">[(&#x27;human&#x27;, &#x27;what is the capi..</td>  <td style=\"text-align:left;\">List</td>  <td style=\"max-width: 300px;\">(0, None)</td></tr>\n",
       "<tr>  <td><p style=\"margin-bottom: 0px;\" class=\"param-doc-tooltip\" data-tooltip=\"String identifier for this object.\">name</p></td>  <td style=\"max-width: 200px; text-align:left;\">&#x27;ChatInterfaceModel00181&#x27;</td>  <td style=\"text-align:left;\">String</td>  <td style=\"max-width: 300px;\"><i>nullable</i> <i>constant</i></td></tr>\n",
       "\n",
       "  </table>\n",
       " </div>\n",
       "</details>\n"
      ],
      "text/plain": [
       "<param.parameterized.Parameters at 0x7f3c63798500>"
      ]
     },
     "execution_count": 57,
     "metadata": {},
     "output_type": "execute_result"
    }
   ],
   "source": [
    "chat_interface_element.model.param"
   ]
  },
  {
   "cell_type": "markdown",
   "metadata": {},
   "source": []
  }
 ],
 "metadata": {
  "kernelspec": {
   "display_name": "pyllments",
   "language": "python",
   "name": "python3"
  },
  "language_info": {
   "codemirror_mode": {
    "name": "ipython",
    "version": 3
   },
   "file_extension": ".py",
   "mimetype": "text/x-python",
   "name": "python",
   "nbconvert_exporter": "python",
   "pygments_lexer": "ipython3",
   "version": "3.12.4"
  }
 },
 "nbformat": 4,
 "nbformat_minor": 2
}
